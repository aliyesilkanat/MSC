{
 "cells": [
  {
   "cell_type": "code",
   "execution_count": 1,
   "metadata": {},
   "outputs": [],
   "source": [
    "import pandas as pd\n",
    "from sklearn.model_selection import train_test_split"
   ]
  },
  {
   "cell_type": "code",
   "execution_count": 2,
   "metadata": {},
   "outputs": [
    {
     "data": {
      "text/html": [
       "<div>\n",
       "<style scoped>\n",
       "    .dataframe tbody tr th:only-of-type {\n",
       "        vertical-align: middle;\n",
       "    }\n",
       "\n",
       "    .dataframe tbody tr th {\n",
       "        vertical-align: top;\n",
       "    }\n",
       "\n",
       "    .dataframe thead th {\n",
       "        text-align: right;\n",
       "    }\n",
       "</style>\n",
       "<table border=\"1\" class=\"dataframe\">\n",
       "  <thead>\n",
       "    <tr style=\"text-align: right;\">\n",
       "      <th></th>\n",
       "      <th>SpeakerId</th>\n",
       "      <th>Gender</th>\n",
       "    </tr>\n",
       "  </thead>\n",
       "  <tbody>\n",
       "    <tr>\n",
       "      <th>362</th>\n",
       "      <td>947</td>\n",
       "      <td>m</td>\n",
       "    </tr>\n",
       "    <tr>\n",
       "      <th>269</th>\n",
       "      <td>988</td>\n",
       "      <td>m</td>\n",
       "    </tr>\n",
       "    <tr>\n",
       "      <th>109</th>\n",
       "      <td>524</td>\n",
       "      <td>f</td>\n",
       "    </tr>\n",
       "    <tr>\n",
       "      <th>27</th>\n",
       "      <td>136</td>\n",
       "      <td>f</td>\n",
       "    </tr>\n",
       "    <tr>\n",
       "      <th>242</th>\n",
       "      <td>895</td>\n",
       "      <td>m</td>\n",
       "    </tr>\n",
       "  </tbody>\n",
       "</table>\n",
       "</div>"
      ],
      "text/plain": [
       "     SpeakerId Gender\n",
       "362        947      m\n",
       "269        988      m\n",
       "109        524      f\n",
       "27         136      f\n",
       "242        895      m"
      ]
     },
     "execution_count": 2,
     "metadata": {},
     "output_type": "execute_result"
    }
   ],
   "source": [
    "df=pd.read_csv(\"/raid/users/ayesilkanat/MSC/SELL-CORPUS/SPEAKER.INFO\",sep=\" \",header=None,names=[\"SpeakerId\",\"Gender\"])\n",
    "df=df.sample(frac=1,random_state=13)\n",
    "df.head()"
   ]
  },
  {
   "cell_type": "code",
   "execution_count": 3,
   "metadata": {},
   "outputs": [
    {
     "name": "stdout",
     "output_type": "stream",
     "text": [
      "Size of the dataset:  389\n",
      "Count of the male speakers:  186\n",
      "Count of the female speakers:  203\n"
     ]
    }
   ],
   "source": [
    "def stats(df):\n",
    "    print(\"Size of the dataset: \",len(df))\n",
    "    print(\"Count of the male speakers: \",sum(df.Gender==\"m\"))\n",
    "    print(\"Count of the female speakers: \",sum(df.Gender==\"f\"))\n",
    "stats(df)"
   ]
  },
  {
   "cell_type": "code",
   "execution_count": 4,
   "metadata": {},
   "outputs": [],
   "source": [
    "train, test = train_test_split(df, test_size=0.2, random_state=13)\n",
    "\n",
    "train, val = train_test_split(train, test_size=0.2, random_state=1)"
   ]
  },
  {
   "cell_type": "code",
   "execution_count": 5,
   "metadata": {},
   "outputs": [
    {
     "name": "stdout",
     "output_type": "stream",
     "text": [
      "Train\n",
      "Size of the dataset:  248\n",
      "Count of the male speakers:  125\n",
      "Count of the female speakers:  123\n",
      "\n",
      "Val\n",
      "Size of the dataset:  63\n",
      "Count of the male speakers:  32\n",
      "Count of the female speakers:  31\n",
      "\n",
      "Test\n",
      "Size of the dataset:  78\n",
      "Count of the male speakers:  29\n",
      "Count of the female speakers:  49\n",
      "\n"
     ]
    }
   ],
   "source": [
    "print(\"Train\")\n",
    "stats(train)\n",
    "print(\"\")\n",
    "\n",
    "print(\"Val\")\n",
    "stats(val)\n",
    "print(\"\")\n",
    "\n",
    "print(\"Test\")\n",
    "stats(test)\n",
    "print(\"\")"
   ]
  },
  {
   "cell_type": "code",
   "execution_count": 6,
   "metadata": {},
   "outputs": [],
   "source": [
    "train.to_csv(\"train.csv\",index=None)\n",
    "val.to_csv(\"val.csv\",index=None)\n",
    "\n",
    "test.to_csv(\"test.csv\",index=None)"
   ]
  },
  {
   "cell_type": "code",
   "execution_count": 11,
   "metadata": {},
   "outputs": [],
   "source": [
    "speaker_ids=[]\n",
    "with open(\"../VCTK/VCTK-Corpus/speaker-info.txt\", 'r') as f:\n",
    "    for i, line in enumerate(f):\n",
    "        if i == 0:\n",
    "            continue\n",
    "        speaker_id = line.strip().split()[0]\n",
    "        speaker_ids.append(speaker_id)\n"
   ]
  },
  {
   "cell_type": "code",
   "execution_count": null,
   "metadata": {},
   "outputs": [],
   "source": []
  },
  {
   "cell_type": "code",
   "execution_count": 15,
   "metadata": {},
   "outputs": [
    {
     "data": {
      "text/plain": [
       "array([ 947,  988,  524,  136,  895,   78,  921,  130,  792,  992,  327,\n",
       "        980,  562,  142,   69,  119,  547,  597,  167,   62,  102,  504,\n",
       "        380,  863,  538,  344,  893, 1050,  802,  226,  266,  986,   91,\n",
       "       1098,  506,  517,  780, 1037,  309,  993,  971, 1067,  519,  104,\n",
       "       1088,  782,  643, 1011,  979,  771,  283,  510,  290, 1060,  153,\n",
       "       1027,  484,  101,  689,  738,  288,  603,  299,  300, 1010,  815,\n",
       "        592, 1021, 1052,  922,  296,  807,  752,  573, 1058,  274,  892,\n",
       "        996,  695,  704, 1018,  369, 1099,  242, 1059,  767,  156,  531,\n",
       "        808, 1028,  155,  499,   88,  601,   81,  148,  995, 1074,   58,\n",
       "        637,  659,  791,  293,  455,  391,  307,  373,  302,  778,  731,\n",
       "        271,   85, 1000,  824,  848,  579,  621,  956,  660,   92,  705,\n",
       "       1063,  598,  563,  520,  989, 1116,  770, 1036,  663, 1041,  173,\n",
       "        716,  567,  128,  267,  976,  305,  858,  221,  522,  396,  794,\n",
       "       1016,  978,  735, 1046,  313,  276, 1068,  646,  294,  933,  209,\n",
       "        940, 1004,   66,  588, 1097,  904,  113,  160, 1042, 1084,  844,\n",
       "        688,  845,  834,  580,  846,  419,  847,  682,  551,  788,  171,\n",
       "        651,  910,   65,  849,  127, 1094,  416,  286, 1040,  702,  819,\n",
       "        793, 1033,  501,  140,  759,  170,  483,  629,  783,  295, 1026,\n",
       "        485,  838,  168,  774,  642,  828,  736,   68, 1101,  681, 1057,\n",
       "        817,  795,  697,  769,  799,  821,  869,  721,  886,  238,  123,\n",
       "         99,  837,  839,  804,  630,  493, 1001,  683,  961, 1108, 1075,\n",
       "        150,  572,  108,  885,  746,  727, 1080,  850,  560, 1096,  303,\n",
       "       1044, 1053, 1136,  737,  775,  632, 1009,  862,  340,  120, 1066,\n",
       "        548, 1029,  308,  498, 1065,  816,  814,  925,  762,  744,  187,\n",
       "       1034,   95,  773,  126,  124,  511,   72,  263,  490,  569, 1007,\n",
       "        448,  917,  107,  512,  812, 1105, 1095,  149, 1017,  861,  341,\n",
       "        935,  420,  595,  262,  537,  801,  250,  515,  277,  797, 1103,\n",
       "        923,  756,  605, 1020, 1048, 1013,   64,  776,  482,  962, 1110,\n",
       "       1070, 1003, 1031,  265,  279,  785, 1102,  707,  890, 1055,  284,\n",
       "        135,  631,  134, 1078, 1047,  623, 1062,  665,  376,  589,  653,\n",
       "       1039,  740,  826,  410,  950,  964,  634,  841,  777, 1064, 1005,\n",
       "       1019,  609,  718, 1107,  896,  331,  967,  571, 1082,  539,  949,\n",
       "        129, 1051,  818, 1109,  757,  565,  758, 1030,  125, 1061, 1092,\n",
       "       1038,   98, 1012,  633,   59,  338,  618,  640,  700,  957, 1054,\n",
       "       1091, 1087, 1071,  851,  577,  919,  873,  649,  901,  662,  854,\n",
       "        110,  328,  748, 1100])"
      ]
     },
     "execution_count": 15,
     "metadata": {},
     "output_type": "execute_result"
    }
   ],
   "source": [
    "df.SpeakerId.values"
   ]
  },
  {
   "cell_type": "code",
   "execution_count": 16,
   "metadata": {},
   "outputs": [
    {
     "data": {
      "text/plain": [
       "{'226',\n",
       " '238',\n",
       " '250',\n",
       " '262',\n",
       " '263',\n",
       " '265',\n",
       " '266',\n",
       " '267',\n",
       " '271',\n",
       " '274',\n",
       " '276',\n",
       " '277',\n",
       " '279',\n",
       " '283',\n",
       " '284',\n",
       " '286',\n",
       " '288',\n",
       " '293',\n",
       " '294',\n",
       " '295',\n",
       " '299',\n",
       " '300',\n",
       " '302',\n",
       " '303',\n",
       " '305',\n",
       " '307',\n",
       " '308',\n",
       " '313',\n",
       " '340',\n",
       " '341',\n",
       " '376'}"
      ]
     },
     "execution_count": 16,
     "metadata": {},
     "output_type": "execute_result"
    }
   ],
   "source": [
    "set(df.SpeakerId.values.astype(str)).intersection(set(speaker_ids))"
   ]
  },
  {
   "cell_type": "code",
   "execution_count": 14,
   "metadata": {},
   "outputs": [
    {
     "data": {
      "text/plain": [
       "{'225',\n",
       " '226',\n",
       " '227',\n",
       " '228',\n",
       " '229',\n",
       " '230',\n",
       " '231',\n",
       " '232',\n",
       " '233',\n",
       " '234',\n",
       " '236',\n",
       " '237',\n",
       " '238',\n",
       " '239',\n",
       " '240',\n",
       " '241',\n",
       " '243',\n",
       " '244',\n",
       " '245',\n",
       " '246',\n",
       " '247',\n",
       " '248',\n",
       " '249',\n",
       " '250',\n",
       " '251',\n",
       " '252',\n",
       " '253',\n",
       " '254',\n",
       " '255',\n",
       " '256',\n",
       " '257',\n",
       " '258',\n",
       " '259',\n",
       " '260',\n",
       " '261',\n",
       " '262',\n",
       " '263',\n",
       " '264',\n",
       " '265',\n",
       " '266',\n",
       " '267',\n",
       " '268',\n",
       " '269',\n",
       " '270',\n",
       " '271',\n",
       " '272',\n",
       " '273',\n",
       " '274',\n",
       " '275',\n",
       " '276',\n",
       " '277',\n",
       " '278',\n",
       " '279',\n",
       " '281',\n",
       " '282',\n",
       " '283',\n",
       " '284',\n",
       " '285',\n",
       " '286',\n",
       " '287',\n",
       " '288',\n",
       " '292',\n",
       " '293',\n",
       " '294',\n",
       " '295',\n",
       " '297',\n",
       " '298',\n",
       " '299',\n",
       " '300',\n",
       " '301',\n",
       " '302',\n",
       " '303',\n",
       " '304',\n",
       " '305',\n",
       " '306',\n",
       " '307',\n",
       " '308',\n",
       " '310',\n",
       " '311',\n",
       " '312',\n",
       " '313',\n",
       " '314',\n",
       " '315',\n",
       " '316',\n",
       " '317',\n",
       " '318',\n",
       " '323',\n",
       " '326',\n",
       " '329',\n",
       " '330',\n",
       " '333',\n",
       " '334',\n",
       " '335',\n",
       " '336',\n",
       " '339',\n",
       " '340',\n",
       " '341',\n",
       " '343',\n",
       " '345',\n",
       " '347',\n",
       " '351',\n",
       " '360',\n",
       " '361',\n",
       " '362',\n",
       " '363',\n",
       " '364',\n",
       " '374',\n",
       " '376'}"
      ]
     },
     "execution_count": 14,
     "metadata": {},
     "output_type": "execute_result"
    }
   ],
   "source": [
    "set(speaker_ids)"
   ]
  },
  {
   "cell_type": "code",
   "execution_count": null,
   "metadata": {},
   "outputs": [],
   "source": []
  }
 ],
 "metadata": {
  "kernelspec": {
   "display_name": "Python 3",
   "language": "python",
   "name": "python3"
  },
  "language_info": {
   "codemirror_mode": {
    "name": "ipython",
    "version": 3
   },
   "file_extension": ".py",
   "mimetype": "text/x-python",
   "name": "python",
   "nbconvert_exporter": "python",
   "pygments_lexer": "ipython3",
   "version": "3.6.7"
  }
 },
 "nbformat": 4,
 "nbformat_minor": 4
}
