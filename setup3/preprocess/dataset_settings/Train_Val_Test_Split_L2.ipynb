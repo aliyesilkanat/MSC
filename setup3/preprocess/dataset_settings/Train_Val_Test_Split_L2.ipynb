{
 "cells": [
  {
   "cell_type": "code",
   "execution_count": 1,
   "metadata": {},
   "outputs": [],
   "source": [
    "import pandas as pd\n"
   ]
  },
  {
   "cell_type": "code",
   "execution_count": 112,
   "metadata": {},
   "outputs": [
    {
     "data": {
      "text/html": [
       "<div>\n",
       "<style scoped>\n",
       "    .dataframe tbody tr th:only-of-type {\n",
       "        vertical-align: middle;\n",
       "    }\n",
       "\n",
       "    .dataframe tbody tr th {\n",
       "        vertical-align: top;\n",
       "    }\n",
       "\n",
       "    .dataframe thead th {\n",
       "        text-align: right;\n",
       "    }\n",
       "</style>\n",
       "<table border=\"1\" class=\"dataframe\">\n",
       "  <thead>\n",
       "    <tr style=\"text-align: right;\">\n",
       "      <th></th>\n",
       "      <th>Speaker</th>\n",
       "      <th>L1</th>\n",
       "      <th>Gender</th>\n",
       "    </tr>\n",
       "  </thead>\n",
       "  <tbody>\n",
       "    <tr>\n",
       "      <th>0</th>\n",
       "      <td>ABA</td>\n",
       "      <td>Arabic</td>\n",
       "      <td>M</td>\n",
       "    </tr>\n",
       "    <tr>\n",
       "      <th>1</th>\n",
       "      <td>SKA</td>\n",
       "      <td>Arabic</td>\n",
       "      <td>F</td>\n",
       "    </tr>\n",
       "    <tr>\n",
       "      <th>2</th>\n",
       "      <td>YBAA</td>\n",
       "      <td>Arabic</td>\n",
       "      <td>M</td>\n",
       "    </tr>\n",
       "    <tr>\n",
       "      <th>3</th>\n",
       "      <td>ZHAA</td>\n",
       "      <td>Arabic</td>\n",
       "      <td>F</td>\n",
       "    </tr>\n",
       "    <tr>\n",
       "      <th>4</th>\n",
       "      <td>BWC</td>\n",
       "      <td>Mandarin</td>\n",
       "      <td>M</td>\n",
       "    </tr>\n",
       "    <tr>\n",
       "      <th>5</th>\n",
       "      <td>LXC</td>\n",
       "      <td>Mandarin</td>\n",
       "      <td>F</td>\n",
       "    </tr>\n",
       "    <tr>\n",
       "      <th>6</th>\n",
       "      <td>NCC</td>\n",
       "      <td>Mandarin</td>\n",
       "      <td>F</td>\n",
       "    </tr>\n",
       "    <tr>\n",
       "      <th>7</th>\n",
       "      <td>TXHC</td>\n",
       "      <td>Mandarin</td>\n",
       "      <td>M</td>\n",
       "    </tr>\n",
       "    <tr>\n",
       "      <th>8</th>\n",
       "      <td>ASI</td>\n",
       "      <td>Hindi</td>\n",
       "      <td>M</td>\n",
       "    </tr>\n",
       "    <tr>\n",
       "      <th>9</th>\n",
       "      <td>RRBI</td>\n",
       "      <td>Hindi</td>\n",
       "      <td>M</td>\n",
       "    </tr>\n",
       "    <tr>\n",
       "      <th>10</th>\n",
       "      <td>SVBI</td>\n",
       "      <td>Hindi</td>\n",
       "      <td>F</td>\n",
       "    </tr>\n",
       "    <tr>\n",
       "      <th>11</th>\n",
       "      <td>TNI</td>\n",
       "      <td>Hindi</td>\n",
       "      <td>F</td>\n",
       "    </tr>\n",
       "    <tr>\n",
       "      <th>12</th>\n",
       "      <td>HJK</td>\n",
       "      <td>Korean</td>\n",
       "      <td>F</td>\n",
       "    </tr>\n",
       "    <tr>\n",
       "      <th>13</th>\n",
       "      <td>HKK</td>\n",
       "      <td>Korean</td>\n",
       "      <td>M</td>\n",
       "    </tr>\n",
       "    <tr>\n",
       "      <th>14</th>\n",
       "      <td>YDCK</td>\n",
       "      <td>Korean</td>\n",
       "      <td>F</td>\n",
       "    </tr>\n",
       "    <tr>\n",
       "      <th>15</th>\n",
       "      <td>YKWK</td>\n",
       "      <td>Korean</td>\n",
       "      <td>M</td>\n",
       "    </tr>\n",
       "    <tr>\n",
       "      <th>16</th>\n",
       "      <td>EBVS</td>\n",
       "      <td>Spanish</td>\n",
       "      <td>M</td>\n",
       "    </tr>\n",
       "    <tr>\n",
       "      <th>17</th>\n",
       "      <td>ERMS</td>\n",
       "      <td>Spanish</td>\n",
       "      <td>M</td>\n",
       "    </tr>\n",
       "    <tr>\n",
       "      <th>18</th>\n",
       "      <td>MBMPS</td>\n",
       "      <td>Spanish</td>\n",
       "      <td>F</td>\n",
       "    </tr>\n",
       "    <tr>\n",
       "      <th>19</th>\n",
       "      <td>NJS</td>\n",
       "      <td>Spanish</td>\n",
       "      <td>F</td>\n",
       "    </tr>\n",
       "    <tr>\n",
       "      <th>20</th>\n",
       "      <td>HQTV</td>\n",
       "      <td>Vietnamese</td>\n",
       "      <td>M</td>\n",
       "    </tr>\n",
       "    <tr>\n",
       "      <th>21</th>\n",
       "      <td>PNV</td>\n",
       "      <td>Vietnamese</td>\n",
       "      <td>F</td>\n",
       "    </tr>\n",
       "    <tr>\n",
       "      <th>22</th>\n",
       "      <td>THV</td>\n",
       "      <td>Vietnamese</td>\n",
       "      <td>F</td>\n",
       "    </tr>\n",
       "    <tr>\n",
       "      <th>23</th>\n",
       "      <td>TLV</td>\n",
       "      <td>Vietnamese</td>\n",
       "      <td>M</td>\n",
       "    </tr>\n",
       "  </tbody>\n",
       "</table>\n",
       "</div>"
      ],
      "text/plain": [
       "   Speaker          L1 Gender\n",
       "0      ABA      Arabic      M\n",
       "1      SKA      Arabic      F\n",
       "2     YBAA      Arabic      M\n",
       "3     ZHAA      Arabic      F\n",
       "4      BWC    Mandarin      M\n",
       "5      LXC    Mandarin      F\n",
       "6      NCC    Mandarin      F\n",
       "7     TXHC    Mandarin      M\n",
       "8      ASI       Hindi      M\n",
       "9     RRBI       Hindi      M\n",
       "10    SVBI       Hindi      F\n",
       "11     TNI       Hindi      F\n",
       "12     HJK      Korean      F\n",
       "13     HKK      Korean      M\n",
       "14    YDCK      Korean      F\n",
       "15    YKWK      Korean      M\n",
       "16    EBVS     Spanish      M\n",
       "17    ERMS     Spanish      M\n",
       "18   MBMPS     Spanish      F\n",
       "19     NJS     Spanish      F\n",
       "20    HQTV  Vietnamese      M\n",
       "21     PNV  Vietnamese      F\n",
       "22     THV  Vietnamese      F\n",
       "23     TLV  Vietnamese      M"
      ]
     },
     "execution_count": 112,
     "metadata": {},
     "output_type": "execute_result"
    }
   ],
   "source": [
    "df=pd.read_csv(\"L2ArcticInfo.txt\",sep=\"\\t\")\n",
    "df=df.drop(\"Audio\",axis=1)\n",
    "df"
   ]
  },
  {
   "cell_type": "code",
   "execution_count": 113,
   "metadata": {},
   "outputs": [
    {
     "data": {
      "text/plain": [
       "array(['Arabic', 'Mandarin', 'Hindi', 'Korean', 'Spanish', 'Vietnamese'],\n",
       "      dtype=object)"
      ]
     },
     "execution_count": 113,
     "metadata": {},
     "output_type": "execute_result"
    }
   ],
   "source": [
    "accents=df.L1.unique()\n",
    "accents"
   ]
  },
  {
   "cell_type": "code",
   "execution_count": 114,
   "metadata": {},
   "outputs": [],
   "source": [
    "train_l1s=[]\n",
    "val_l1s=[]\n",
    "test_l1s=[]"
   ]
  },
  {
   "cell_type": "code",
   "execution_count": 115,
   "metadata": {},
   "outputs": [],
   "source": [
    "for acc in accents:\n",
    "    female=df[(df.L1==acc) & (df.Gender==\"F\")].iloc[0,0]\n",
    "    male=df[(df.L1==acc) & (df.Gender==\"M\")].iloc[0,0]\n",
    "    df=df[~df.Speaker.isin([female,male])]\n",
    "    train_l1s.extend([male,female])\n",
    "    "
   ]
  },
  {
   "cell_type": "code",
   "execution_count": 116,
   "metadata": {},
   "outputs": [
    {
     "data": {
      "text/html": [
       "<div>\n",
       "<style scoped>\n",
       "    .dataframe tbody tr th:only-of-type {\n",
       "        vertical-align: middle;\n",
       "    }\n",
       "\n",
       "    .dataframe tbody tr th {\n",
       "        vertical-align: top;\n",
       "    }\n",
       "\n",
       "    .dataframe thead th {\n",
       "        text-align: right;\n",
       "    }\n",
       "</style>\n",
       "<table border=\"1\" class=\"dataframe\">\n",
       "  <thead>\n",
       "    <tr style=\"text-align: right;\">\n",
       "      <th></th>\n",
       "      <th>Speaker</th>\n",
       "      <th>L1</th>\n",
       "      <th>Gender</th>\n",
       "    </tr>\n",
       "  </thead>\n",
       "  <tbody>\n",
       "    <tr>\n",
       "      <th>2</th>\n",
       "      <td>YBAA</td>\n",
       "      <td>Arabic</td>\n",
       "      <td>M</td>\n",
       "    </tr>\n",
       "    <tr>\n",
       "      <th>3</th>\n",
       "      <td>ZHAA</td>\n",
       "      <td>Arabic</td>\n",
       "      <td>F</td>\n",
       "    </tr>\n",
       "    <tr>\n",
       "      <th>6</th>\n",
       "      <td>NCC</td>\n",
       "      <td>Mandarin</td>\n",
       "      <td>F</td>\n",
       "    </tr>\n",
       "    <tr>\n",
       "      <th>7</th>\n",
       "      <td>TXHC</td>\n",
       "      <td>Mandarin</td>\n",
       "      <td>M</td>\n",
       "    </tr>\n",
       "    <tr>\n",
       "      <th>9</th>\n",
       "      <td>RRBI</td>\n",
       "      <td>Hindi</td>\n",
       "      <td>M</td>\n",
       "    </tr>\n",
       "    <tr>\n",
       "      <th>11</th>\n",
       "      <td>TNI</td>\n",
       "      <td>Hindi</td>\n",
       "      <td>F</td>\n",
       "    </tr>\n",
       "    <tr>\n",
       "      <th>14</th>\n",
       "      <td>YDCK</td>\n",
       "      <td>Korean</td>\n",
       "      <td>F</td>\n",
       "    </tr>\n",
       "    <tr>\n",
       "      <th>15</th>\n",
       "      <td>YKWK</td>\n",
       "      <td>Korean</td>\n",
       "      <td>M</td>\n",
       "    </tr>\n",
       "    <tr>\n",
       "      <th>17</th>\n",
       "      <td>ERMS</td>\n",
       "      <td>Spanish</td>\n",
       "      <td>M</td>\n",
       "    </tr>\n",
       "    <tr>\n",
       "      <th>19</th>\n",
       "      <td>NJS</td>\n",
       "      <td>Spanish</td>\n",
       "      <td>F</td>\n",
       "    </tr>\n",
       "    <tr>\n",
       "      <th>22</th>\n",
       "      <td>THV</td>\n",
       "      <td>Vietnamese</td>\n",
       "      <td>F</td>\n",
       "    </tr>\n",
       "    <tr>\n",
       "      <th>23</th>\n",
       "      <td>TLV</td>\n",
       "      <td>Vietnamese</td>\n",
       "      <td>M</td>\n",
       "    </tr>\n",
       "  </tbody>\n",
       "</table>\n",
       "</div>"
      ],
      "text/plain": [
       "   Speaker          L1 Gender\n",
       "2     YBAA      Arabic      M\n",
       "3     ZHAA      Arabic      F\n",
       "6      NCC    Mandarin      F\n",
       "7     TXHC    Mandarin      M\n",
       "9     RRBI       Hindi      M\n",
       "11     TNI       Hindi      F\n",
       "14    YDCK      Korean      F\n",
       "15    YKWK      Korean      M\n",
       "17    ERMS     Spanish      M\n",
       "19     NJS     Spanish      F\n",
       "22     THV  Vietnamese      F\n",
       "23     TLV  Vietnamese      M"
      ]
     },
     "execution_count": 116,
     "metadata": {},
     "output_type": "execute_result"
    }
   ],
   "source": [
    "df"
   ]
  },
  {
   "cell_type": "code",
   "execution_count": 117,
   "metadata": {},
   "outputs": [],
   "source": [
    "for acc in accents:\n",
    "    \n",
    "    acc_df=df[(df.L1==acc) ]\n",
    "    val_=acc_df.iloc[0,0]\n",
    "    \n",
    "    val_l1s.append(val_)\n",
    "    test_=acc_df.iloc[1,0]\n",
    "    test_l1s.append(test_)"
   ]
  },
  {
   "cell_type": "code",
   "execution_count": 118,
   "metadata": {},
   "outputs": [
    {
     "data": {
      "text/plain": [
       "['ABA',\n",
       " 'SKA',\n",
       " 'BWC',\n",
       " 'LXC',\n",
       " 'ASI',\n",
       " 'SVBI',\n",
       " 'HKK',\n",
       " 'HJK',\n",
       " 'EBVS',\n",
       " 'MBMPS',\n",
       " 'HQTV',\n",
       " 'PNV']"
      ]
     },
     "execution_count": 118,
     "metadata": {},
     "output_type": "execute_result"
    }
   ],
   "source": [
    "train_l1s"
   ]
  },
  {
   "cell_type": "code",
   "execution_count": 119,
   "metadata": {},
   "outputs": [
    {
     "data": {
      "text/plain": [
       "['YBAA', 'NCC', 'RRBI', 'YDCK', 'ERMS', 'THV']"
      ]
     },
     "execution_count": 119,
     "metadata": {},
     "output_type": "execute_result"
    }
   ],
   "source": [
    "val_l1s"
   ]
  },
  {
   "cell_type": "code",
   "execution_count": 120,
   "metadata": {},
   "outputs": [
    {
     "data": {
      "text/plain": [
       "['ZHAA', 'TXHC', 'TNI', 'YKWK', 'NJS', 'TLV']"
      ]
     },
     "execution_count": 120,
     "metadata": {},
     "output_type": "execute_result"
    }
   ],
   "source": [
    "test_l1s"
   ]
  },
  {
   "cell_type": "code",
   "execution_count": null,
   "metadata": {},
   "outputs": [],
   "source": []
  },
  {
   "cell_type": "code",
   "execution_count": 85,
   "metadata": {},
   "outputs": [
    {
     "data": {
      "text/plain": [
       "'TLV'"
      ]
     },
     "execution_count": 85,
     "metadata": {},
     "output_type": "execute_result"
    }
   ],
   "source": [
    "df[(df.L1==acc) ].iloc[1,0]"
   ]
  },
  {
   "cell_type": "code",
   "execution_count": 1,
   "metadata": {},
   "outputs": [
    {
     "data": {
      "text/plain": [
       "12"
      ]
     },
     "execution_count": 1,
     "metadata": {},
     "output_type": "execute_result"
    }
   ],
   "source": [
    "len(['ABA',\n",
    " 'SKA',\n",
    " 'BWC',\n",
    " 'LXC',\n",
    " 'ASI',\n",
    " 'SVBI',\n",
    " 'HKK',\n",
    " 'HJK',\n",
    " 'EBVS',\n",
    " 'MBMPS',\n",
    " 'HQTV',\n",
    " 'PNV'])"
   ]
  },
  {
   "cell_type": "code",
   "execution_count": null,
   "metadata": {},
   "outputs": [],
   "source": []
  }
 ],
 "metadata": {
  "kernelspec": {
   "display_name": "Python 3",
   "language": "python",
   "name": "python3"
  },
  "language_info": {
   "codemirror_mode": {
    "name": "ipython",
    "version": 3
   },
   "file_extension": ".py",
   "mimetype": "text/x-python",
   "name": "python",
   "nbconvert_exporter": "python",
   "pygments_lexer": "ipython3",
   "version": "3.6.7"
  }
 },
 "nbformat": 4,
 "nbformat_minor": 4
}
