{
 "cells": [
  {
   "cell_type": "code",
   "execution_count": 7,
   "metadata": {},
   "outputs": [
    {
     "name": "stdout",
     "output_type": "stream",
     "text": [
      "[NbConvertApp] Converting notebook setup1/preprocess/PreprocessingSetup1.ipynb to python\n",
      "[NbConvertApp] Writing 6359 bytes to setup1/preprocess/PreprocessingSetup1.py\n",
      "[NbConvertApp] Converting notebook setup2/preprocess/PreprocessingSetup2.ipynb to python\n",
      "[NbConvertApp] Writing 6724 bytes to setup2/preprocess/PreprocessingSetup2.py\n",
      "[NbConvertApp] Converting notebook setup3/preprocess/PreprocessingSetup3.ipynb to python\n",
      "[NbConvertApp] Writing 7271 bytes to setup3/preprocess/PreprocessingSetup3.py\n"
     ]
    }
   ],
   "source": [
    "!jupyter nbconvert --to python setup1/preprocess/PreprocessingSetup1.ipynb\n",
    "!jupyter nbconvert --to python setup2/preprocess/PreprocessingSetup2.ipynb\n",
    "!jupyter nbconvert --to python setup3/preprocess/PreprocessingSetup3.ipynb\n"
   ]
  },
  {
   "cell_type": "code",
   "execution_count": null,
   "metadata": {},
   "outputs": [],
   "source": []
  }
 ],
 "metadata": {
  "kernelspec": {
   "display_name": "Python 3",
   "language": "python",
   "name": "python3"
  },
  "language_info": {
   "codemirror_mode": {
    "name": "ipython",
    "version": 3
   },
   "file_extension": ".py",
   "mimetype": "text/x-python",
   "name": "python",
   "nbconvert_exporter": "python",
   "pygments_lexer": "ipython3",
   "version": "3.6.8"
  }
 },
 "nbformat": 4,
 "nbformat_minor": 4
}
